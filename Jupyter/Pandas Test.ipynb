{
 "cells": [
  {
   "cell_type": "code",
   "execution_count": 5,
   "metadata": {},
   "outputs": [],
   "source": [
    "#Librerie utili\n",
    "import pandas as pd\n",
    "import sqlite3"
   ]
  },
  {
   "cell_type": "code",
   "execution_count": 6,
   "metadata": {},
   "outputs": [],
   "source": [
    "con = sqlite3.connect(\"../code/omnet/simulations/results/simulate.vec\")\n",
    "\n",
    "df=pd.read_sql_query(\"\"\"\n",
    "SELECT AVG(v.vectorMax / 3600) as meanThroughput\n",
    "FROM vector v NATURAL JOIN runAttr ra\n",
    "WHERE v.moduleName = \"Network.server.processor\" AND\n",
    "\t\tv.vectorName = \"completedTransactions:vector\" AND \n",
    "\t\tra.attrName = \"measurement\"\n",
    "GROUP BY ra.attrValue\n",
    "ORDER BY v.runId;\n",
    "\"\"\", con)\n",
    "\n",
    "df.head()\n",
    "\n",
    "con.close()"
   ]
  },
  {
   "cell_type": "code",
   "execution_count": null,
   "metadata": {},
   "outputs": [],
   "source": []
  }
 ],
 "metadata": {
  "kernelspec": {
   "display_name": "Python 3",
   "language": "python",
   "name": "python3"
  },
  "language_info": {
   "codemirror_mode": {
    "name": "ipython",
    "version": 3
   },
   "file_extension": ".py",
   "mimetype": "text/x-python",
   "name": "python",
   "nbconvert_exporter": "python",
   "pygments_lexer": "ipython3",
   "version": "3.7.4"
  }
 },
 "nbformat": 4,
 "nbformat_minor": 2
}
