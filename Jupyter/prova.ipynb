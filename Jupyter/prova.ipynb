{
 "cells": [
  {
   "cell_type": "code",
   "execution_count": null,
   "metadata": {},
   "outputs": [],
   "source": [
    "#Librerie utili\n",
    "import pandas as pd\n",
    "import os\n",
    "import shutil\n",
    "import re"
   ]
  },
  {
   "cell_type": "code",
   "execution_count": null,
   "metadata": {},
   "outputs": [],
   "source": [
    "# Funzioni per prelevare campi dal nome del file risultato dalla simulazione\n",
    "\n",
    "def get_user_activity_from_filename(activity_file_name):\n",
    "    if not (activity_file_name[0:6]=='HuGaDB'): \n",
    "        return 0 #non é un dataset\n",
    "    if (activity_file_name[-9]=='0'):\n",
    "        user_id=activity_file_name[-8]\n",
    "    else:\n",
    "        user_id=activity_file_name[-9:-7]\n",
    "    #Se l'utente inizia con zero rimuovere lo zero\n",
    "    activity=activity_file_name[10:-10]\n",
    "    return [user_id,activity]"
   ]
  },
  {
   "cell_type": "code",
   "execution_count": null,
   "metadata": {},
   "outputs": [],
   "source": []
  }
 ],
 "metadata": {
  "kernelspec": {
   "display_name": "Python 3",
   "language": "python",
   "name": "python3"
  },
  "language_info": {
   "codemirror_mode": {
    "name": "ipython",
    "version": 3
   },
   "file_extension": ".py",
   "mimetype": "text/x-python",
   "name": "python",
   "nbconvert_exporter": "python",
   "pygments_lexer": "ipython3",
   "version": "3.7.4"
  }
 },
 "nbformat": 4,
 "nbformat_minor": 2
}
