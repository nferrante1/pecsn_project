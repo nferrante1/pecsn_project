{
 "cells": [
  {
   "cell_type": "markdown",
   "metadata": {},
   "source": [
    "# Model Fitting"
   ]
  },
  {
   "cell_type": "code",
   "execution_count": 73,
   "metadata": {},
   "outputs": [],
   "source": [
    "import matplotlib as m\n",
    "import sqlite3\n",
    "import pandas as pd\n",
    "import numpy"
   ]
  },
  {
   "cell_type": "markdown",
   "metadata": {},
   "source": [
    "### Initialization of variables and arrays, p_i are the probabilities, mu_i are the service times\n"
   ]
  },
  {
   "cell_type": "code",
   "execution_count": 74,
   "metadata": {},
   "outputs": [],
   "source": [
    "p1_ = [0.34,0.60,0.25,0.15]\n",
    "p2_ = [0.33,0.25,0.60,0.25]\n",
    "p_ = numpy.array([p1_,p2_]);\n",
    "mu_proc_ = [0.01, 0.01 ,0.01, 0.01, 0.1, 0.1, 0.1, 0.1] \n",
    "mu_disk_ = [0.1 , 1.0  ,0.1 , 1.0 , 0.1, 1.0, 0.1, 1.0]\n",
    "mu_remote_ = [0.1 , 1.0  ,1.0 , 0.1 , 0.1, 1.0, 1.0, 0.1]\n",
    "M = 3;"
   ]
  },
  {
   "cell_type": "markdown",
   "metadata": {},
   "source": [
    "### Pre initialization of output matrix"
   ]
  },
  {
   "cell_type": "code",
   "execution_count": 75,
   "metadata": {},
   "outputs": [],
   "source": [
    "throughput= numpy.zeros((4,8,49))\n",
    "responseTime = numpy.zeros((4,8,49))\n",
    "U = numpy.zeros((4,8,49,3))"
   ]
  },
  {
   "cell_type": "markdown",
   "metadata": {},
   "source": [
    "### For each scenario, for each configuration and for each number of transactions, (clients)"
   ]
  },
  {
   "cell_type": "markdown",
   "metadata": {},
   "source": [
    "- Initialize the scenario with the corresponding probabilities (p1 exit, p2 send to disk, 1-p1-p2 send to remote server)\n",
    "\n",
    "- Initialize service times for the given configuration\n",
    "\n",
    "- Compute the solution (e_) for the system of equations lambda x PI' = lambda\n",
    "\n",
    "- Compute rho for each SC\n",
    "\n",
    "- Run Buzen's algorithm and compute Utilization of each SC, throughput, responseTime\n"
   ]
  },
  {
   "cell_type": "code",
   "execution_count": 78,
   "metadata": {},
   "outputs": [],
   "source": [
    "for scenario in range(0,4):\n",
    "    scenario = 0\n",
    "    p1 = p_[0][scenario]\n",
    "    p2 = p_[1][scenario]    \n",
    "    for config in range(0,8):\n",
    "        config = 0           \n",
    "        mu_proc = mu_proc_[config]\n",
    "        mu_disk = mu_disk_[config]\n",
    "        mu_remote = mu_remote_[config]   \n",
    "        for jobs in range (0,50):\n",
    "            jobs = 49\n",
    "            mu = [mu_proc , mu_disk , mu_remote]\n",
    "            K = jobs;\n",
    "            e_proc = 1 / mu_proc\n",
    "            e_disk = p2 * (e_proc)\n",
    "            e_remote = (1-(p1+p2))*(e_proc)\n",
    "            rho_proc = e_proc/(1/mu_proc)\n",
    "            rho_disk = e_disk/(1/mu_disk)\n",
    "            rho_remote = e_remote/(1/mu_remote)\n",
    "            rho = [rho_proc, rho_disk, rho_remote]\n",
    "            #Algoritmo di Convoluzione di Buzen\n",
    "\n",
    "            G = numpy.ones((M,K+1))\n",
    "\n",
    "            for i in range (1,M):\n",
    "                for j in range(1,K+1):\n",
    "                    G[i][j] = G[i-1][j] + rho[i]*G[i][j-1]\n",
    "\n",
    "            E_N = K\n",
    "            g = G[M-1][K-1]/G[M-1][K]\n",
    "            \n",
    "            U[scenario][config][jobs-1] = numpy.multiply(rho,g)\n",
    "\n",
    "            inverse_mu = numpy.divide(1,mu)\n",
    "            \n",
    "            gamma = numpy.multiply(U[scenario][config][jobs-1], inverse_mu )\n",
    "\n",
    "            throughput[scenario][config][jobs-1] = p1*gamma[0]\n",
    "            responseTime[scenario][config][jobs-1] = E_N / throughput[scenario][config][jobs-1]"
   ]
  },
  {
   "cell_type": "markdown",
   "metadata": {},
   "source": [
    "Now that all the computation's are done, we can compare our QT results with the simulation's results"
   ]
  },
  {
   "cell_type": "code",
   "execution_count": null,
   "metadata": {},
   "outputs": [],
   "source": []
  }
 ],
 "metadata": {
  "kernelspec": {
   "display_name": "Python 3",
   "language": "python",
   "name": "python3"
  },
  "language_info": {
   "codemirror_mode": {
    "name": "ipython",
    "version": 3
   },
   "file_extension": ".py",
   "mimetype": "text/x-python",
   "name": "python",
   "nbconvert_exporter": "python",
   "pygments_lexer": "ipython3",
   "version": "3.7.6"
  }
 },
 "nbformat": 4,
 "nbformat_minor": 2
}
